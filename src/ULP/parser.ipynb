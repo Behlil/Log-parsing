{
 "cells": [
  {
   "cell_type": "code",
   "execution_count": 2,
   "metadata": {},
   "outputs": [],
   "source": [
    "import sys\n",
    "from ULP import LogParser\n",
    "\n",
    "#  ignore warnings\n",
    "import warnings\n",
    "warnings.filterwarnings(\"ignore\")"
   ]
  },
  {
   "cell_type": "code",
   "execution_count": 3,
   "metadata": {},
   "outputs": [
    {
     "name": "stdout",
     "output_type": "stream",
     "text": [
      "Parsing file: ../../Data/HealthApp.log\n",
      "[Warning] Skip line: 13\n",
      "Parsing done in 5.620661497116089 sec\n"
     ]
    }
   ],
   "source": [
    "input_dir  = '../../Data/' # The input directory of log file\n",
    "output_dir = 'demo_result/'  # The output directory of parsing results\n",
    "log_file   = 'HealthApp.log'  # The input log file name\n",
    "log_format = '<Time>\\|<Component>\\|<Pid>\\|<Content>'  # HDFS log format\n",
    "# Regular expression list for optional preprocessing (default: [])\n",
    "regex      = []\n",
    "\n",
    "parser = LogParser(log_format, indir=input_dir, outdir=output_dir, rex=regex)\n",
    "data = parser.parse(log_file)"
   ]
  },
  {
   "cell_type": "code",
   "execution_count": 3,
   "metadata": {},
   "outputs": [
    {
     "data": {
      "text/html": [
       "<div>\n",
       "<style scoped>\n",
       "    .dataframe tbody tr th:only-of-type {\n",
       "        vertical-align: middle;\n",
       "    }\n",
       "\n",
       "    .dataframe tbody tr th {\n",
       "        vertical-align: top;\n",
       "    }\n",
       "\n",
       "    .dataframe thead th {\n",
       "        text-align: right;\n",
       "    }\n",
       "</style>\n",
       "<table border=\"1\" class=\"dataframe\">\n",
       "  <thead>\n",
       "    <tr style=\"text-align: right;\">\n",
       "      <th></th>\n",
       "      <th>Month</th>\n",
       "      <th>Date</th>\n",
       "      <th>Time</th>\n",
       "      <th>Level</th>\n",
       "      <th>Component</th>\n",
       "      <th>PID</th>\n",
       "      <th>Content</th>\n",
       "      <th>EventTemplate</th>\n",
       "      <th>Regex</th>\n",
       "    </tr>\n",
       "  </thead>\n",
       "  <tbody>\n",
       "    <tr>\n",
       "      <th>7</th>\n",
       "      <td>Jun</td>\n",
       "      <td>9</td>\n",
       "      <td>06:06:20</td>\n",
       "      <td>combo</td>\n",
       "      <td>kernel</td>\n",
       "      <td>None</td>\n",
       "      <td>BIOS-e820: 00000000000f0000 - 0000000000100000...</td>\n",
       "      <td>bios-e820:  &lt;*&gt;  -  &lt;*&gt;   ( reserved )</td>\n",
       "      <td>bios-e820: (.*?) - (.*?)  ( reserved )</td>\n",
       "    </tr>\n",
       "    <tr>\n",
       "      <th>33</th>\n",
       "      <td>Jun</td>\n",
       "      <td>9</td>\n",
       "      <td>06:06:20</td>\n",
       "      <td>combo</td>\n",
       "      <td>kernel</td>\n",
       "      <td>None</td>\n",
       "      <td>Calibrating delay loop... 1441.79 BogoMIPS</td>\n",
       "      <td>Calibrating  delay  loop...  1441.79  BogoMIPS</td>\n",
       "      <td>Calibrating delay loop... 1441.79 BogoMIPS</td>\n",
       "    </tr>\n",
       "    <tr>\n",
       "      <th>34</th>\n",
       "      <td>Jun</td>\n",
       "      <td>9</td>\n",
       "      <td>06:06:20</td>\n",
       "      <td>combo</td>\n",
       "      <td>kernel</td>\n",
       "      <td>None</td>\n",
       "      <td>Security Scaffold v1.0.0 initialized</td>\n",
       "      <td>Security  Scaffold  &lt;*&gt;  initialized</td>\n",
       "      <td>Security Scaffold (.*?) initialized</td>\n",
       "    </tr>\n",
       "    <tr>\n",
       "      <th>47</th>\n",
       "      <td>Jun</td>\n",
       "      <td>9</td>\n",
       "      <td>06:06:21</td>\n",
       "      <td>combo</td>\n",
       "      <td>kernel</td>\n",
       "      <td>None</td>\n",
       "      <td>CPU: L2 cache: 256K</td>\n",
       "      <td>CPU:  L2  cache:  256K</td>\n",
       "      <td>CPU: L2 cache: 256K</td>\n",
       "    </tr>\n",
       "    <tr>\n",
       "      <th>62</th>\n",
       "      <td>Jun</td>\n",
       "      <td>9</td>\n",
       "      <td>06:06:21</td>\n",
       "      <td>combo</td>\n",
       "      <td>kernel</td>\n",
       "      <td>None</td>\n",
       "      <td>usbcore: registered new driver usbfs</td>\n",
       "      <td>usbcore:  registered  new  driver  usbfs</td>\n",
       "      <td>usbcore: registered new driver usbfs</td>\n",
       "    </tr>\n",
       "  </tbody>\n",
       "</table>\n",
       "</div>"
      ],
      "text/plain": [
       "   Month Date      Time  Level Component   PID  \\\n",
       "7    Jun    9  06:06:20  combo    kernel  None   \n",
       "33   Jun    9  06:06:20  combo    kernel  None   \n",
       "34   Jun    9  06:06:20  combo    kernel  None   \n",
       "47   Jun    9  06:06:21  combo    kernel  None   \n",
       "62   Jun    9  06:06:21  combo    kernel  None   \n",
       "\n",
       "                                              Content  \\\n",
       "7   BIOS-e820: 00000000000f0000 - 0000000000100000...   \n",
       "33         Calibrating delay loop... 1441.79 BogoMIPS   \n",
       "34               Security Scaffold v1.0.0 initialized   \n",
       "47                                CPU: L2 cache: 256K   \n",
       "62               usbcore: registered new driver usbfs   \n",
       "\n",
       "                                       EventTemplate  \\\n",
       "7           bios-e820:  <*>  -  <*>   ( reserved )     \n",
       "33   Calibrating  delay  loop...  1441.79  BogoMIPS    \n",
       "34             Security  Scaffold  <*>  initialized    \n",
       "47                           CPU:  L2  cache:  256K    \n",
       "62         usbcore:  registered  new  driver  usbfs    \n",
       "\n",
       "                                           Regex  \n",
       "7        bios-e820: (.*?) - (.*?)  ( reserved )   \n",
       "33   Calibrating delay loop... 1441.79 BogoMIPS   \n",
       "34          Security Scaffold (.*?) initialized   \n",
       "47                          CPU: L2 cache: 256K   \n",
       "62         usbcore: registered new driver usbfs   "
      ]
     },
     "execution_count": 3,
     "metadata": {},
     "output_type": "execute_result"
    }
   ],
   "source": [
    "data.head()"
   ]
  },
  {
   "cell_type": "code",
   "execution_count": null,
   "metadata": {},
   "outputs": [],
   "source": []
  }
 ],
 "metadata": {
  "kernelspec": {
   "display_name": "Python 3",
   "language": "python",
   "name": "python3"
  },
  "language_info": {
   "codemirror_mode": {
    "name": "ipython",
    "version": 3
   },
   "file_extension": ".py",
   "mimetype": "text/x-python",
   "name": "python",
   "nbconvert_exporter": "python",
   "pygments_lexer": "ipython3",
   "version": "3.12.2"
  }
 },
 "nbformat": 4,
 "nbformat_minor": 2
}
